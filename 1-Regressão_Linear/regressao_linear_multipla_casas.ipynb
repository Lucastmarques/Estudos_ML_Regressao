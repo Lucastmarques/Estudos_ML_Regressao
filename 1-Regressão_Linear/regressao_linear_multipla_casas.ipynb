{
 "cells": [
  {
   "cell_type": "code",
   "execution_count": 3,
   "metadata": {},
   "outputs": [],
   "source": [
    "import pandas as pd \n",
    "\n",
    "base = pd.read_csv('house_prices.csv')\n",
    "\n",
    "### Atribuindo valores para X em formato array 2D sem precisar utilizar o método reshape\n",
    "X = base.iloc[:, 3:19].values\n",
    "Y = base.iloc[:, 2].values\n",
    "\n",
    "from sklearn.model_selection import train_test_split\n",
    "X_treinamento, X_teste, Y_treinamento, Y_teste = train_test_split(X, Y, test_size=0.3, random_state=0)"
   ]
  },
  {
   "cell_type": "code",
   "execution_count": 4,
   "metadata": {},
   "outputs": [
    {
     "output_type": "execute_result",
     "data": {
      "text/plain": "LinearRegression(copy_X=True, fit_intercept=True, n_jobs=None, normalize=False)"
     },
     "metadata": {},
     "execution_count": 4
    }
   ],
   "source": [
    "from sklearn.linear_model import LinearRegression\n",
    "regressor = LinearRegression()\n",
    "regressor.fit(X_treinamento, Y_treinamento)"
   ]
  },
  {
   "cell_type": "code",
   "execution_count": 7,
   "metadata": {},
   "outputs": [
    {
     "output_type": "execute_result",
     "data": {
      "text/plain": "0.7029888085955011"
     },
     "metadata": {},
     "execution_count": 7
    }
   ],
   "source": [
    "score = regressor.score(X_treinamento, Y_treinamento)\n",
    "score"
   ]
  },
  {
   "cell_type": "code",
   "execution_count": 8,
   "metadata": {},
   "outputs": [
    {
     "output_type": "execute_result",
     "data": {
      "text/plain": "array([ 383751.77768697, 1514216.17517449,  546921.9617911 , ...,\n        314968.57623286,  219405.55573558,  148128.83467042])"
     },
     "metadata": {},
     "execution_count": 8
    }
   ],
   "source": [
    "previsoes = regressor.predict(X_teste)"
   ]
  },
  {
   "cell_type": "code",
   "execution_count": 12,
   "metadata": {},
   "outputs": [
    {
     "output_type": "execute_result",
     "data": {
      "text/plain": "123888.44377485084"
     },
     "metadata": {},
     "execution_count": 12
    }
   ],
   "source": [
    "from sklearn.metrics import mean_absolute_error, mean_squared_error\n",
    "mae = mean_absolute_error(Y_teste, previsoes)\n",
    "mae"
   ]
  },
  {
   "cell_type": "markdown",
   "metadata": {},
   "source": [
    "Com o resultado acima podemos afirmar que usando os atributos inseridos na variável Y, podemos prever o valor de uma casa com um erro de mais ou menos U$123.888,44"
   ]
  },
  {
   "cell_type": "code",
   "execution_count": 13,
   "metadata": {},
   "outputs": [
    {
     "output_type": "execute_result",
     "data": {
      "text/plain": "0.6885414149062479"
     },
     "metadata": {},
     "execution_count": 13
    }
   ],
   "source": [
    "regressor.score(X_teste, Y_teste)"
   ]
  },
  {
   "cell_type": "code",
   "execution_count": 15,
   "metadata": {},
   "outputs": [
    {
     "output_type": "stream",
     "name": "stdout",
     "text": "5736222.703410667\n[-3.08423090e+04  3.66540816e+04  1.12179159e+02  8.00604120e-03\n  9.60355724e+03  5.85441638e+05  5.60621840e+04  2.54795004e+04\n  1.01092121e+05  6.96565321e+01  4.25226267e+01 -2.60724691e+03\n  1.40070753e+01 -5.53557431e+02  6.11778251e+05 -1.95564688e+05]\n"
    }
   ],
   "source": [
    "### Imprimindo a constante da reta (B0)\n",
    "print(regressor.intercept_)\n",
    "### Imprimindo os coeficientes da reta (B1, B2, B3, ..., Bn)\n",
    "print(regressor.coef_)"
   ]
  },
  {
   "cell_type": "code",
   "execution_count": null,
   "metadata": {},
   "outputs": [],
   "source": []
  }
 ],
 "metadata": {
  "language_info": {
   "codemirror_mode": {
    "name": "ipython",
    "version": 3
   },
   "file_extension": ".py",
   "mimetype": "text/x-python",
   "name": "python",
   "nbconvert_exporter": "python",
   "pygments_lexer": "ipython3",
   "version": "3.7.6-final"
  },
  "orig_nbformat": 2,
  "kernelspec": {
   "name": "python3",
   "display_name": "Python 3"
  }
 },
 "nbformat": 4,
 "nbformat_minor": 2
}